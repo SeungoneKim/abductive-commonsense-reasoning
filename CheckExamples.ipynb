{
 "cells": [
  {
   "cell_type": "code",
   "execution_count": 1,
   "id": "c7b3f112",
   "metadata": {},
   "outputs": [],
   "source": [
    "import json"
   ]
  },
  {
   "cell_type": "code",
   "execution_count": 2,
   "id": "f63140bf",
   "metadata": {},
   "outputs": [],
   "source": [
    "with open('./reproduced_results/only_o1_o2.jsonl') as f:\n",
    "    baseline = [json.loads(line) for line in f]\n",
    "with open('./reproduced_results/ali_comet_phrases_prefix.jsonl') as f:\n",
    "    comet_text = [json.loads(line) for line in f]\n",
    "with open('./reproduced_results/lm_all_comet_emb_prefix.jsonl') as f:\n",
    "    comet_emb = [json.loads(line) for line in f]"
   ]
  },
  {
   "cell_type": "code",
   "execution_count": 30,
   "id": "59d8128c",
   "metadata": {},
   "outputs": [
    {
     "name": "stdout",
     "output_type": "stream",
     "text": [
      "{'story_id': '0023fe98-5106-458d-8069-e72f1f7d65eb-1', 'obs1': 'Stephen was at a party.', 'obs2': 'He checked it but it was completely broken.', 'hyp1': 'A vase knocked over Stephen while drunk.', 'hyp2': 'Stephen knocked over a vase while drunk.', 'label': '2', 'comet_preds': {'obs1': {'oEffect': {'event': 'Stephen was at a party.', 'effect_type': 'oEffect', 'beams': ['none', 'have a good time', 'they have fun', 'gets drunk', 'have fun']}, 'oReact': {'event': 'Stephen was at a party.', 'effect_type': 'oReact', 'beams': ['none', 'happy', 'excited', 'social', 'friendly']}, 'oWant': {'event': 'Stephen was at a party.', 'effect_type': 'oWant', 'beams': ['none', 'to have fun', 'to socialize', 'to go home', 'socialize']}, 'xAttr': {'event': 'Stephen was at a party.', 'effect_type': 'xAttr', 'beams': ['social', 'outgoing', 'sociable', 'fun', 'friendly']}, 'xEffect': {'event': 'Stephen was at a party.', 'effect_type': 'xEffect', 'beams': ['has a good time', 'gets drunk', 'has fun', 'none', 'dances']}, 'xIntent': {'event': 'Stephen was at a party.', 'effect_type': 'xIntent', 'beams': ['to have fun', 'to be social', 'to socialize', 'to have a good time', 'none']}, 'xNeed': {'event': 'Stephen was at a party.', 'effect_type': 'xNeed', 'beams': ['to go to the party', 'to have a party', 'to drive to the party', 'to get dressed', 'none']}, 'xReact': {'event': 'Stephen was at a party.', 'effect_type': 'xReact', 'beams': ['happy', 'social', 'excited', 'sociable', 'tired']}, 'xWant': {'event': 'Stephen was at a party.', 'effect_type': 'xWant', 'beams': ['to have fun', 'to socialize', 'to go home', 'to dance', 'go home']}}, 'obs2': {'oEffect': {'event': 'He checked it but it was completely broken.', 'effect_type': 'oEffect', 'beams': ['none', 'they get it back', 'loses money', 'loses item', 'they get a new one']}, 'oReact': {'event': 'He checked it but it was completely broken.', 'effect_type': 'oReact', 'beams': ['none', 'upset', 'disappointed', 'sad', 'angry']}, 'oWant': {'event': 'He checked it but it was completely broken.', 'effect_type': 'oWant', 'beams': ['none', 'to get it back', 'to fix it', 'to thank personx', 'to see if it works']}, 'xAttr': {'event': 'He checked it but it was completely broken.', 'effect_type': 'xAttr', 'beams': ['careless', 'clumsy', 'careful', 'upset', 'disappointed']}, 'xEffect': {'event': 'He checked it but it was completely broken.', 'effect_type': 'xEffect', 'beams': ['gets yelled at', 'is disappointed', 'none', 'cries', 'personx is disappointed']}, 'xIntent': {'event': 'He checked it but it was completely broken.', 'effect_type': 'xIntent', 'beams': ['none', 'to fix it', 'to break something', 'to be sure', 'to get it back']}, 'xNeed': {'event': 'He checked it but it was completely broken.', 'effect_type': 'xNeed', 'beams': ['to break it', 'none', 'to break something', 'to have broken it', 'to have a broken item']}, 'xReact': {'event': 'He checked it but it was completely broken.', 'effect_type': 'xReact', 'beams': ['upset', 'disappointed', 'sad', 'frustrated', 'worried']}, 'xWant': {'event': 'He checked it but it was completely broken.', 'effect_type': 'xWant', 'beams': ['to fix it', 'to repair it', 'to get it back', 'to repair', 'to break it again']}}}, 'generations': {'gpt2_for_anli_comet': [\"He was really drunk and didn't have any friends. \"]}}\n"
     ]
    }
   ],
   "source": [
    "print(comet_emb[0])"
   ]
  },
  {
   "cell_type": "code",
   "execution_count": 3,
   "id": "2c3eddf7",
   "metadata": {},
   "outputs": [],
   "source": [
    "results = {}\n",
    "for item in baseline:\n",
    "    results[item['story_id']] = {}\n",
    "    results[item['story_id']]['observation1'] = item['obs1']\n",
    "    results[item['story_id']]['observation2'] = item['obs2']\n",
    "    if item['label']=='1':\n",
    "        results[item['story_id']]['answer_hypothesis'] = item['hyp1']\n",
    "    else:\n",
    "        results[item['story_id']]['answer_hypothesis'] = item['hyp2']\n",
    "    results[item['story_id']]['baseline'] = item['generations']['gpt2_for_anli_comet']\n",
    "\n",
    "for item in comet_text:\n",
    "    results[item['story_id']]['comet_text'] = item['generations']['gpt2_for_anli_comet']\n",
    "\n",
    "for item in comet_emb:\n",
    "    results[item['story_id']]['comet_emb'] = item['generations']['gpt2_for_anli_comet']"
   ]
  },
  {
   "cell_type": "code",
   "execution_count": 9,
   "id": "7c96fba8",
   "metadata": {},
   "outputs": [],
   "source": [
    "import random\n",
    "\n",
    "def show_result(results):\n",
    "    random_key = random.choice(list(results.keys()))\n",
    "    print(\"observation 1 : \",results[random_key]['observation1'])\n",
    "    print(\"observation 2 : \",results[random_key]['observation2'])\n",
    "    print()\n",
    "    print(\"O1 O2 Prediction :\")\n",
    "    print(results[random_key]['baseline'])\n",
    "    print()\n",
    "    print(\"COMET TEXT Prediction :\")\n",
    "    print(results[random_key]['comet_text'])\n",
    "    print()\n",
    "    print(\"COMET EMB Prediction :\")\n",
    "    print(results[random_key]['comet_emb'])\n",
    "    print()\n",
    "    print(\"ANSWER :\")\n",
    "    print(results[random_key]['answer_hypothesis'])"
   ]
  },
  {
   "cell_type": "code",
   "execution_count": 29,
   "id": "6bb1191f",
   "metadata": {},
   "outputs": [
    {
     "name": "stdout",
     "output_type": "stream",
     "text": [
      "observation 1 :  The cat sunned itself where the light passed through the window.\n",
      "observation 2 :  The cat slept there for the next two hours.\n",
      "\n",
      "O1 O2 Prediction :\n",
      "['The cat was sleeping in a shady spot.']\n",
      "\n",
      "COMET TEXT Prediction :\n",
      "['The cat was sleeping in a hard pile.']\n",
      "\n",
      "COMET EMB Prediction :\n",
      "['The cat always woke up in the dark. ']\n",
      "\n",
      "ANSWER :\n",
      "The cat made it self comfortable in the sunlight.\n"
     ]
    }
   ],
   "source": [
    "show_result(results)"
   ]
  },
  {
   "cell_type": "code",
   "execution_count": null,
   "id": "f18b9576",
   "metadata": {},
   "outputs": [],
   "source": []
  }
 ],
 "metadata": {
  "kernelspec": {
   "display_name": "Python 3",
   "language": "python",
   "name": "python3"
  },
  "language_info": {
   "codemirror_mode": {
    "name": "ipython",
    "version": 3
   },
   "file_extension": ".py",
   "mimetype": "text/x-python",
   "name": "python",
   "nbconvert_exporter": "python",
   "pygments_lexer": "ipython3",
   "version": "3.8.10"
  }
 },
 "nbformat": 4,
 "nbformat_minor": 5
}
